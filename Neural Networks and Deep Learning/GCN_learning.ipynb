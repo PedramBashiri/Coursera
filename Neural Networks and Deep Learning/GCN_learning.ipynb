{
 "cells": [
  {
   "cell_type": "markdown",
   "metadata": {},
   "source": [
    "# Simplest Example"
   ]
  },
  {
   "cell_type": "code",
   "execution_count": 46,
   "metadata": {},
   "outputs": [
    {
     "name": "stdout",
     "output_type": "stream",
     "text": [
      "A\n"
     ]
    },
    {
     "data": {
      "text/plain": [
       "matrix([[0, 1, 0, 0],\n",
       "        [0, 0, 1, 1],\n",
       "        [0, 1, 0, 0],\n",
       "        [1, 0, 1, 0]])"
      ]
     },
     "metadata": {},
     "output_type": "display_data"
    },
    {
     "name": "stdout",
     "output_type": "stream",
     "text": [
      "X\n"
     ]
    },
    {
     "data": {
      "text/plain": [
       "matrix([[ 0.,  0.],\n",
       "        [ 1., -1.],\n",
       "        [ 2., -2.],\n",
       "        [ 3., -3.]])"
      ]
     },
     "metadata": {},
     "output_type": "display_data"
    },
    {
     "name": "stdout",
     "output_type": "stream",
     "text": [
      "D\n"
     ]
    },
    {
     "data": {
      "text/plain": [
       "matrix([[1, 0, 0, 0],\n",
       "        [0, 2, 0, 0],\n",
       "        [0, 0, 2, 0],\n",
       "        [0, 0, 0, 1]])"
      ]
     },
     "metadata": {},
     "output_type": "display_data"
    },
    {
     "name": "stdout",
     "output_type": "stream",
     "text": [
      "D_inverse\n"
     ]
    },
    {
     "data": {
      "text/plain": [
       "matrix([[1. , 0. , 0. , 0. ],\n",
       "        [0. , 0.5, 0. , 0. ],\n",
       "        [0. , 0. , 0.5, 0. ],\n",
       "        [0. , 0. , 0. , 1. ]])"
      ]
     },
     "metadata": {},
     "output_type": "display_data"
    },
    {
     "name": "stdout",
     "output_type": "stream",
     "text": [
      "A_hat\n"
     ]
    },
    {
     "data": {
      "text/plain": [
       "matrix([[1., 1., 0., 0.],\n",
       "        [0., 1., 1., 1.],\n",
       "        [0., 1., 1., 0.],\n",
       "        [1., 0., 1., 1.]])"
      ]
     },
     "metadata": {},
     "output_type": "display_data"
    },
    {
     "name": "stdout",
     "output_type": "stream",
     "text": [
      "D_hat\n"
     ]
    },
    {
     "data": {
      "text/plain": [
       "matrix([[2., 0., 0., 0.],\n",
       "        [0., 3., 0., 0.],\n",
       "        [0., 0., 3., 0.],\n",
       "        [0., 0., 0., 2.]])"
      ]
     },
     "metadata": {},
     "output_type": "display_data"
    },
    {
     "name": "stdout",
     "output_type": "stream",
     "text": [
      "D_hat_inverse\n"
     ]
    },
    {
     "data": {
      "text/plain": [
       "matrix([[0.5       , 0.        , 0.        , 0.        ],\n",
       "        [0.        , 0.33333333, 0.        , 0.        ],\n",
       "        [0.        , 0.        , 0.33333333, 0.        ],\n",
       "        [0.        , 0.        , 0.        , 0.5       ]])"
      ]
     },
     "metadata": {},
     "output_type": "display_data"
    }
   ],
   "source": [
    "import numpy as np\n",
    "\n",
    "A = np.mat([\n",
    "    [0,1,0,0],\n",
    "    [0,0,1,1],\n",
    "    [0,1,0,0],\n",
    "    [1,0,1,0]\n",
    "])\n",
    "\n",
    "X= np.mat([\n",
    "    [i, -i]\n",
    "    for i in range(A.shape[0])\n",
    "], dtype = float)\n",
    "\n",
    "I = np.mat(np.eye(A.shape[0]))\n",
    "\n",
    "A_hat = A + I\n",
    "\n",
    "D = np.array(A.sum(axis=0))[0]\n",
    "D = np.matrix(np.diag(D))\n",
    "D_inverse = D**-1\n",
    "\n",
    "D_hat = np.array(A_hat.sum(axis=0))[0]\n",
    "D_hat = np.matrix(np.diag(D_hat))\n",
    "D_hat_inverse = D_hat**-1\n",
    "\n",
    "W = np.matrix([\n",
    "    [1, -1],\n",
    "    [-1, 1]\n",
    "])\n",
    "\n",
    "print(\"A\")\n",
    "display(A)\n",
    "\n",
    "print(\"X\")\n",
    "display(X)\n",
    "\n",
    "print(\"D\")\n",
    "display(D)\n",
    "\n",
    "print(\"D_inverse\")\n",
    "display(D_inverse)\n",
    "\n",
    "print(\"A_hat\")\n",
    "display(A_hat)\n",
    "\n",
    "print(\"D_hat\")\n",
    "display(D_hat)\n",
    "\n",
    "print(\"D_hat_inverse\")\n",
    "display(D_hat_inverse)\n"
   ]
  },
  {
   "cell_type": "code",
   "execution_count": 47,
   "metadata": {},
   "outputs": [],
   "source": [
    "def relu_arr(x):\n",
    "    return x * (x > 0)"
   ]
  },
  {
   "cell_type": "code",
   "execution_count": 48,
   "metadata": {},
   "outputs": [],
   "source": [
    "def relu_mat(x):\n",
    "    return np.maximum(x, 0)"
   ]
  },
  {
   "cell_type": "code",
   "execution_count": 50,
   "metadata": {},
   "outputs": [
    {
     "data": {
      "text/plain": [
       "matrix([[1., 0.],\n",
       "        [4., 0.],\n",
       "        [2., 0.],\n",
       "        [5., 0.]])"
      ]
     },
     "execution_count": 50,
     "metadata": {},
     "output_type": "execute_result"
    }
   ],
   "source": [
    "relu_mat(D_hat_inverse * A_hat * X * W)"
   ]
  },
  {
   "cell_type": "code",
   "execution_count": null,
   "metadata": {},
   "outputs": [],
   "source": []
  },
  {
   "cell_type": "markdown",
   "metadata": {},
   "source": [
    "# Zachary karate Club"
   ]
  },
  {
   "cell_type": "code",
   "execution_count": 51,
   "metadata": {},
   "outputs": [],
   "source": [
    "from networkx import karate_club_graph, to_numpy_matrix\n",
    "\n",
    "zkc = karate_club_graph()\n",
    "order = sorted(list(zkc.nodes()))\n",
    "A = to_numpy_matrix(zkc, nodelist=order)\n",
    "I = np.eye(zkc.number_of_nodes())\n",
    "\n",
    "A_hat = A + I\n",
    "D_hat = np.array(np.sum(A_hat, axis=0))[0]\n",
    "D_hat = np.matrix(np.diag(D_hat))"
   ]
  },
  {
   "cell_type": "code",
   "execution_count": 52,
   "metadata": {},
   "outputs": [],
   "source": [
    "W_1 = np.random.normal(\n",
    "    loc=0, scale=1, size=(zkc.number_of_nodes(), 4))\n",
    "\n",
    "W_2 = np.random.normal(\n",
    "    loc=0, size=(W_1.shape[1], 2))"
   ]
  },
  {
   "cell_type": "code",
   "execution_count": 54,
   "metadata": {},
   "outputs": [],
   "source": [
    "def gcn_layer(A_hat, D_hat, X, W):\n",
    "    return relu_mat(D_hat**-1 * A_hat * X * W)\n",
    "\n",
    "H_1 = gcn_layer(A_hat, D_hat, I, W_1)\n",
    "H_2 = gcn_layer(A_hat, D_hat, H_1, W_2)\n",
    "\n",
    "output = H_2"
   ]
  },
  {
   "cell_type": "code",
   "execution_count": 62,
   "metadata": {},
   "outputs": [
    {
     "name": "stdout",
     "output_type": "stream",
     "text": [
      "[0.16777281 0.18458304]\n",
      "Mr. Hi\n",
      "[0.27213135 0.3556863 ]\n",
      "Mr. Hi\n",
      "[0.13470072 0.37249101]\n",
      "Mr. Hi\n",
      "[0.2151584  0.27618064]\n",
      "Mr. Hi\n",
      "[0.01652582 0.        ]\n",
      "Mr. Hi\n",
      "[0.02220998 0.        ]\n",
      "Mr. Hi\n",
      "[0.03138302 0.        ]\n",
      "Mr. Hi\n",
      "[0.23127391 0.30925774]\n",
      "Mr. Hi\n",
      "[0.10236214 0.03157763]\n",
      "Mr. Hi\n",
      "[0.12869859 0.2448664 ]\n",
      "Officer\n",
      "[0.00620875 0.        ]\n",
      "Mr. Hi\n",
      "[0.07880765 0.01439395]\n",
      "Mr. Hi\n",
      "[0.17478569 0.18081699]\n",
      "Mr. Hi\n",
      "[0.14813422 0.1076453 ]\n",
      "Mr. Hi\n",
      "[0.06118947 0.        ]\n",
      "Officer\n",
      "[0. 0.]\n",
      "Officer\n",
      "[0.0287383 0.       ]\n",
      "Mr. Hi\n",
      "[0.21794101 0.27811617]\n",
      "Mr. Hi\n",
      "[0. 0.]\n",
      "Officer\n",
      "[0.12230777 0.02078251]\n",
      "Mr. Hi\n",
      "[0. 0.]\n",
      "Officer\n",
      "[0.24110205 0.31917346]\n",
      "Mr. Hi\n",
      "[0.         0.24173301]\n",
      "Officer\n",
      "[0.11560116 0.1097871 ]\n",
      "Officer\n",
      "[0.05878408 0.20501358]\n",
      "Officer\n",
      "[0.12318424 0.        ]\n",
      "Officer\n",
      "[0.18245963 0.4059117 ]\n",
      "Officer\n",
      "[0.12503199 0.16904053]\n",
      "Officer\n",
      "[0.1046182 0.       ]\n",
      "Officer\n",
      "[0.16040339 0.20601713]\n",
      "Officer\n",
      "[0.08058651 0.        ]\n",
      "Officer\n",
      "[0.04170478 0.        ]\n",
      "Officer\n",
      "[0.08097795 0.        ]\n",
      "Officer\n",
      "[0.09290443 0.08516769]\n",
      "Officer\n"
     ]
    }
   ],
   "source": [
    "feature_representations = {\n",
    "    node: np.array(output)[node] \n",
    "    for node in zkc.nodes()}\n",
    "\n",
    "feature_representations\n",
    "\n",
    "for node in zkc.nodes():\n",
    "    print(np.array(output)[node])\n",
    "    print(zkc.node[node]['club'])"
   ]
  },
  {
   "cell_type": "code",
   "execution_count": null,
   "metadata": {},
   "outputs": [],
   "source": []
  }
 ],
 "metadata": {
  "kernelspec": {
   "display_name": "Python 3",
   "language": "python",
   "name": "python3"
  },
  "language_info": {
   "codemirror_mode": {
    "name": "ipython",
    "version": 3
   },
   "file_extension": ".py",
   "mimetype": "text/x-python",
   "name": "python",
   "nbconvert_exporter": "python",
   "pygments_lexer": "ipython3",
   "version": "3.7.1"
  }
 },
 "nbformat": 4,
 "nbformat_minor": 2
}
