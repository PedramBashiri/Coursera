{
 "cells": [
  {
   "cell_type": "code",
   "execution_count": 14,
   "metadata": {},
   "outputs": [
    {
     "name": "stdout",
     "output_type": "stream",
     "text": [
      "(2000000, 1)\n",
      "[[1.11088463]\n",
      " [1.13597218]\n",
      " [1.42467701]\n",
      " ...\n",
      " [2.07429989]\n",
      " [2.08018467]\n",
      " [1.75345951]]\n",
      "8.04 ms\n",
      "[[1.11088463]\n",
      " [1.13597218]\n",
      " [1.42467701]\n",
      " ...\n",
      " [2.07429989]\n",
      " [2.08018467]\n",
      " [1.75345951]]\n",
      "1104.19 ms\n"
     ]
    }
   ],
   "source": [
    "import numpy as np\n",
    "import time\n",
    "import math\n",
    "\n",
    "a = np.random.rand(2000000, 1)\n",
    "b = np.random.rand(2000000, 1)\n",
    "\n",
    "start = time.time()\n",
    "\n",
    "c = np.exp(a)\n",
    "print(c.shape)\n",
    "end = time.time()\n",
    "\n",
    "print(c)\n",
    "print(round((end - start) * 1000, 2), \"ms\")\n",
    "\n",
    "start = time.time()\n",
    "\n",
    "for i in range(len(a)):\n",
    "    c[i] = math.exp(a[i])\n",
    "\n",
    "end = time.time()\n",
    "\n",
    "print(c)\n",
    "print(round((end - start) * 1000, 2), \"ms\")"
   ]
  },
  {
   "cell_type": "code",
   "execution_count": null,
   "metadata": {},
   "outputs": [],
   "source": []
  }
 ],
 "metadata": {
  "kernelspec": {
   "display_name": "Python 3",
   "language": "python",
   "name": "python3"
  },
  "language_info": {
   "codemirror_mode": {
    "name": "ipython",
    "version": 3
   },
   "file_extension": ".py",
   "mimetype": "text/x-python",
   "name": "python",
   "nbconvert_exporter": "python",
   "pygments_lexer": "ipython3",
   "version": "3.7.1"
  }
 },
 "nbformat": 4,
 "nbformat_minor": 2
}
